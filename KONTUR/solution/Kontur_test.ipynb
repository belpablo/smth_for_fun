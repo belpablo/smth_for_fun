{
 "cells": [
  {
   "cell_type": "markdown",
   "id": "170cabe7",
   "metadata": {},
   "source": [
    "# Тестовое задание:\n",
    "\n",
    "требуется разработать модель, которая будет способна различать заголовки реальных и выдуманных новостей.\n",
    "\n",
    "Для обучения модели используйте данные из файла `train.tsv`. В файле находится таблица, состоящая из двух колонок. \n",
    "В колонке title записан заголовок новости. В колонке is_fake содержатся метки: 0 – новость реальная; 1 – новость выдуманная.\n",
    "Для демонстрации работы модели используйте данные тестового набора из файла `test.tsv`. В нем также есть колонка title, данные которой являются входными для вашей модели.\n",
    "\n",
    "Вам нужно скопировать файл `test.tsv`, переименовать его в `predictions.tsv` и заполнить колонку is_fake значениями предсказаний вашей модели, аналогично `train.tsv`. \n",
    "Изначально колонка заполнена значением 0.\n",
    "\n",
    "---"
   ]
  },
  {
   "cell_type": "code",
   "execution_count": 58,
   "id": "fb1be111",
   "metadata": {},
   "outputs": [
    {
     "data": {
      "text/html": [
       "<div>\n",
       "<style scoped>\n",
       "    .dataframe tbody tr th:only-of-type {\n",
       "        vertical-align: middle;\n",
       "    }\n",
       "\n",
       "    .dataframe tbody tr th {\n",
       "        vertical-align: top;\n",
       "    }\n",
       "\n",
       "    .dataframe thead th {\n",
       "        text-align: right;\n",
       "    }\n",
       "</style>\n",
       "<table border=\"1\" class=\"dataframe\">\n",
       "  <thead>\n",
       "    <tr style=\"text-align: right;\">\n",
       "      <th></th>\n",
       "      <th>title</th>\n",
       "      <th>is_fake</th>\n",
       "    </tr>\n",
       "  </thead>\n",
       "  <tbody>\n",
       "    <tr>\n",
       "      <th>0</th>\n",
       "      <td>Москвичу Владимиру Клутину пришёл счёт за вмеш...</td>\n",
       "      <td>1</td>\n",
       "    </tr>\n",
       "    <tr>\n",
       "      <th>1</th>\n",
       "      <td>Агент Кокорина назвал езду по встречке житейск...</td>\n",
       "      <td>0</td>\n",
       "    </tr>\n",
       "    <tr>\n",
       "      <th>2</th>\n",
       "      <td>Госдума рассмотрит возможность введения секрет...</td>\n",
       "      <td>1</td>\n",
       "    </tr>\n",
       "    <tr>\n",
       "      <th>3</th>\n",
       "      <td>ФАС заблокировала поставку скоростных трамваев...</td>\n",
       "      <td>0</td>\n",
       "    </tr>\n",
       "    <tr>\n",
       "      <th>4</th>\n",
       "      <td>Против Навального завели дело о недоносительст...</td>\n",
       "      <td>1</td>\n",
       "    </tr>\n",
       "    <tr>\n",
       "      <th>5</th>\n",
       "      <td>Российским студентам запретят учиться за рубежом</td>\n",
       "      <td>1</td>\n",
       "    </tr>\n",
       "    <tr>\n",
       "      <th>6</th>\n",
       "      <td>Путин пишет книгу об истории Украины</td>\n",
       "      <td>1</td>\n",
       "    </tr>\n",
       "    <tr>\n",
       "      <th>7</th>\n",
       "      <td>Россияне обхитрили рост цен</td>\n",
       "      <td>0</td>\n",
       "    </tr>\n",
       "    <tr>\n",
       "      <th>8</th>\n",
       "      <td>Звезда «Ворониных» раскрыл подробности о своем...</td>\n",
       "      <td>0</td>\n",
       "    </tr>\n",
       "    <tr>\n",
       "      <th>9</th>\n",
       "      <td>Microsoft объявила дату выхода очков дополненн...</td>\n",
       "      <td>0</td>\n",
       "    </tr>\n",
       "  </tbody>\n",
       "</table>\n",
       "</div>"
      ],
      "text/plain": [
       "                                               title  is_fake\n",
       "0  Москвичу Владимиру Клутину пришёл счёт за вмеш...        1\n",
       "1  Агент Кокорина назвал езду по встречке житейск...        0\n",
       "2  Госдума рассмотрит возможность введения секрет...        1\n",
       "3  ФАС заблокировала поставку скоростных трамваев...        0\n",
       "4  Против Навального завели дело о недоносительст...        1\n",
       "5   Российским студентам запретят учиться за рубежом        1\n",
       "6               Путин пишет книгу об истории Украины        1\n",
       "7                        Россияне обхитрили рост цен        0\n",
       "8  Звезда «Ворониных» раскрыл подробности о своем...        0\n",
       "9  Microsoft объявила дату выхода очков дополненн...        0"
      ]
     },
     "execution_count": 58,
     "metadata": {},
     "output_type": "execute_result"
    }
   ],
   "source": [
    "import numpy as np\n",
    "import pandas as pd\n",
    "import matplotlib.pyplot as plt\n",
    "\n",
    "train_data = pd.read_csv('dataset/train.tsv', sep = '\\t')\n",
    "#train_data.style.hide_index()\n",
    "train_data.head(10)"
   ]
  },
  {
   "cell_type": "code",
   "execution_count": 22,
   "id": "c7ed3b69",
   "metadata": {
    "scrolled": true
   },
   "outputs": [
    {
     "data": {
      "text/plain": [
       "1448    Шестая часть Kingdom Hearts обойдет стороной P...\n",
       "5113    Кировская филармония организовала концерт для ...\n",
       "4092    ВГТРК выставит Киеву счёт за расходы, связанны...\n",
       "1272    Москва лишена права проведения чемпионата мира...\n",
       "589     «Уралкалий» объяснил действия Минска конкурент...\n",
       "1084           Месси решил побить вечный рекорд Барселоны\n",
       "2940    В России запретят продавать сигареты с 23:00 д...\n",
       "881     В «Сбербанке Онлайн» появится функция платного...\n",
       "5339    Женщин, уличённых в супружеской измене, будут ...\n",
       "3576    Красный Крест требует, чтобы ЧВК «Вагнер» пере...\n",
       "Name: title, dtype: object"
      ]
     },
     "execution_count": 22,
     "metadata": {},
     "output_type": "execute_result"
    }
   ],
   "source": [
    "# разделим тренировочный датасет на train/test - нам же нужно будет как-то оценить работоспособность модели\n",
    "\n",
    "from sklearn.model_selection import train_test_split\n",
    "X_train, X_test, y_train, y_test = train_test_split(train_data['title'], train_data['is_fake'], \n",
    "                                                    test_size = 0.1, random_state = 42)\n",
    "X_train[:10]"
   ]
  },
  {
   "cell_type": "markdown",
   "id": "37c86fb0",
   "metadata": {},
   "source": [
    "# 1. подход TF-IDF:"
   ]
  },
  {
   "cell_type": "code",
   "execution_count": 23,
   "id": "49720f80",
   "metadata": {},
   "outputs": [
    {
     "name": "stdout",
     "output_type": "stream",
     "text": [
      "по всем 5182 сообщениям набралось 17531 уникальных слов\n"
     ]
    }
   ],
   "source": [
    "# Токенизируем входные данные и строим словарь всех известных слов\n",
    "\n",
    "from sklearn.svm import SVC \n",
    "from sklearn.feature_extraction.text import TfidfVectorizer\n",
    "from sklearn.model_selection import GridSearchCV\n",
    "from sklearn.model_selection import KFold\n",
    "\n",
    "vectorizer = TfidfVectorizer()\n",
    "train_x_vect = vectorizer.fit_transform(X_train)\n",
    "\n",
    "tmp = train_x_vect.toarray().shape\n",
    "print('по всем {0} сообщениям набралось {1} уникальных слов'.format(tmp[0], tmp[1]))"
   ]
  },
  {
   "cell_type": "markdown",
   "id": "45b29339",
   "metadata": {},
   "source": [
    "# 1.1. Support Vector Machine:"
   ]
  },
  {
   "cell_type": "code",
   "execution_count": 32,
   "id": "f25428ca",
   "metadata": {
    "scrolled": true
   },
   "outputs": [
    {
     "name": "stdout",
     "output_type": "stream",
     "text": [
      "0.8213058223375127\n",
      "{'C': 1.0}\n"
     ]
    }
   ],
   "source": [
    "# Попробуем метод опорных векоторов с линейным ядром - выберем наиболее оптимальный параметр перебором\n",
    "\n",
    "grid = {'C': np.power(10.0, np.arange(-5, 6))}\n",
    "\n",
    "cv = KFold(n_splits = 5, shuffle = True, random_state = 42)\n",
    "clf = SVC(kernel = 'linear', random_state = 42)\n",
    "\n",
    "gs = GridSearchCV(clf, grid, scoring = 'f1', cv = cv)\n",
    "gs.fit(train_x_vect, y_train)\n",
    "\n",
    "print(gs.best_score_)\n",
    "print(gs.best_params_)"
   ]
  },
  {
   "cell_type": "code",
   "execution_count": 33,
   "id": "3e77b920",
   "metadata": {},
   "outputs": [
    {
     "data": {
      "text/plain": [
       "SVC(kernel='linear', random_state=42)"
      ]
     },
     "execution_count": 33,
     "metadata": {},
     "output_type": "execute_result"
    }
   ],
   "source": [
    "svc_clf = SVC(kernel = 'linear', random_state = 42, C = gs.best_params_['C'])\n",
    "svc_clf.fit(train_x_vect, y_train)"
   ]
  },
  {
   "cell_type": "code",
   "execution_count": 34,
   "id": "cd8b544d",
   "metadata": {},
   "outputs": [
    {
     "name": "stdout",
     "output_type": "stream",
     "text": [
      "запретят\n",
      "навального\n",
      "рпц\n",
      "что\n",
      "лукашенко\n",
      "процентов\n",
      "млн\n",
      "как\n",
      "россиян\n",
      "нефти\n",
      "qr\n",
      "коронавируса\n",
      "чтобы\n",
      "учёные\n",
      "сколково\n",
      "шойгу\n",
      "нефть\n",
      "госдуме\n",
      "2022\n",
      "гибдд\n"
     ]
    }
   ],
   "source": [
    "#20 самых важных для моедли слов - можно также поработать над удалением стоп слов (что, чтобы, как итд)\n",
    "\n",
    "A = svc_clf.coef_.indices\n",
    "B = np.abs(svc_clf.coef_.data)\n",
    "\n",
    "Words = A[B.argsort()[-20:][::-1]]\n",
    "for i in Words:\n",
    "    print(vectorizer.get_feature_names()[i])"
   ]
  },
  {
   "cell_type": "code",
   "execution_count": 35,
   "id": "787ec7e6",
   "metadata": {},
   "outputs": [
    {
     "name": "stdout",
     "output_type": "stream",
     "text": [
      "f1_score = 0.8488745980707396\n"
     ]
    }
   ],
   "source": [
    "#проверяем на тестовой выборке:\n",
    "\n",
    "from sklearn.metrics import f1_score\n",
    "\n",
    "y_pred = svc_clf.predict(vectorizer.transform(X_test))\n",
    "print('f1_score = {}'.format(f1_score(y_test, y_pred, average = 'binary')))"
   ]
  },
  {
   "cell_type": "code",
   "execution_count": 36,
   "id": "05cc048d",
   "metadata": {},
   "outputs": [
    {
     "data": {
      "text/html": [
       "<div>\n",
       "<style scoped>\n",
       "    .dataframe tbody tr th:only-of-type {\n",
       "        vertical-align: middle;\n",
       "    }\n",
       "\n",
       "    .dataframe tbody tr th {\n",
       "        vertical-align: top;\n",
       "    }\n",
       "\n",
       "    .dataframe thead th {\n",
       "        text-align: right;\n",
       "    }\n",
       "</style>\n",
       "<table border=\"1\" class=\"dataframe\">\n",
       "  <thead>\n",
       "    <tr style=\"text-align: right;\">\n",
       "      <th></th>\n",
       "      <th>title</th>\n",
       "      <th>is_fake</th>\n",
       "    </tr>\n",
       "  </thead>\n",
       "  <tbody>\n",
       "    <tr>\n",
       "      <th>0</th>\n",
       "      <td>Роскомнадзор представил реестр сочетаний цвето...</td>\n",
       "      <td>1</td>\n",
       "    </tr>\n",
       "    <tr>\n",
       "      <th>1</th>\n",
       "      <td>Ночью под Минском на президентской горе Белара...</td>\n",
       "      <td>1</td>\n",
       "    </tr>\n",
       "    <tr>\n",
       "      <th>2</th>\n",
       "      <td>Бывший спичрайтер Юрия Лозы рассказал о трудно...</td>\n",
       "      <td>1</td>\n",
       "    </tr>\n",
       "    <tr>\n",
       "      <th>3</th>\n",
       "      <td>Сельская церковь, собравшая рекордно низкое ко...</td>\n",
       "      <td>0</td>\n",
       "    </tr>\n",
       "    <tr>\n",
       "      <th>4</th>\n",
       "      <td>Акции Google рухнули после объявления о переза...</td>\n",
       "      <td>0</td>\n",
       "    </tr>\n",
       "    <tr>\n",
       "      <th>5</th>\n",
       "      <td>Курс доллара вырос до исторического максимума</td>\n",
       "      <td>0</td>\n",
       "    </tr>\n",
       "    <tr>\n",
       "      <th>6</th>\n",
       "      <td>ОПЕК назвала оптимальный уровень цен на нефть</td>\n",
       "      <td>0</td>\n",
       "    </tr>\n",
       "    <tr>\n",
       "      <th>7</th>\n",
       "      <td>Российская авиакомпания откроет рейсы в Тбилис...</td>\n",
       "      <td>0</td>\n",
       "    </tr>\n",
       "    <tr>\n",
       "      <th>8</th>\n",
       "      <td>Швейцарская горнолыжница расстреляна в доме ро...</td>\n",
       "      <td>1</td>\n",
       "    </tr>\n",
       "    <tr>\n",
       "      <th>9</th>\n",
       "      <td>Учреждена театральная премия имени Гарольда Пи...</td>\n",
       "      <td>0</td>\n",
       "    </tr>\n",
       "  </tbody>\n",
       "</table>\n",
       "</div>"
      ],
      "text/plain": [
       "                                               title  is_fake\n",
       "0  Роскомнадзор представил реестр сочетаний цвето...        1\n",
       "1  Ночью под Минском на президентской горе Белара...        1\n",
       "2  Бывший спичрайтер Юрия Лозы рассказал о трудно...        1\n",
       "3  Сельская церковь, собравшая рекордно низкое ко...        0\n",
       "4  Акции Google рухнули после объявления о переза...        0\n",
       "5      Курс доллара вырос до исторического максимума        0\n",
       "6      ОПЕК назвала оптимальный уровень цен на нефть        0\n",
       "7  Российская авиакомпания откроет рейсы в Тбилис...        0\n",
       "8  Швейцарская горнолыжница расстреляна в доме ро...        1\n",
       "9  Учреждена театральная премия имени Гарольда Пи...        0"
      ]
     },
     "execution_count": 36,
     "metadata": {},
     "output_type": "execute_result"
    }
   ],
   "source": [
    "# Ответ на тестовых данных:\n",
    "\n",
    "test_data = pd.read_csv('dataset/test.tsv', sep = '\\t')\n",
    "test_data['is_fake'] = svc_clf.predict(vectorizer.transform(test_data['title']))\n",
    "#test_data.style.hide_index()\n",
    "test_data.head(10)"
   ]
  },
  {
   "cell_type": "markdown",
   "id": "e2e7bf3a",
   "metadata": {},
   "source": [
    "Судя по поисковым запросам есть подозрение, что все эти новости на самом деле правдивые, а само задание просто шутка :)\n",
    "\n",
    "..\n",
    "\n",
    "либо это знак, что мне надо что-то предпринять для уменьшения ложноположительных ошибок."
   ]
  },
  {
   "cell_type": "markdown",
   "id": "c23da1d6",
   "metadata": {},
   "source": [
    "# 1.2. Random Forest Classifier:"
   ]
  },
  {
   "cell_type": "code",
   "execution_count": 46,
   "id": "439dd414",
   "metadata": {},
   "outputs": [
    {
     "name": "stdout",
     "output_type": "stream",
     "text": [
      "0.7065052045215694\n",
      "{'max_depth': 19}\n"
     ]
    }
   ],
   "source": [
    "# Найдём оптимальные параметры перебором:\n",
    "\n",
    "from sklearn.ensemble import RandomForestClassifier as RFC\n",
    "\n",
    "grid = {'max_depth': np.arange(2, 20)}\n",
    "cv = KFold(n_splits = 5, shuffle = True, random_state = 42)\n",
    "clf = RFC(random_state = 42)\n",
    "\n",
    "gs = GridSearchCV(clf, grid, scoring = 'f1', cv = cv)\n",
    "gs.fit(train_x_vect, y_train)\n",
    "\n",
    "print(gs.best_score_)\n",
    "print(gs.best_params_)"
   ]
  },
  {
   "cell_type": "code",
   "execution_count": 47,
   "id": "ee915cb4",
   "metadata": {},
   "outputs": [
    {
     "name": "stdout",
     "output_type": "stream",
     "text": [
      "f1_score = 0.6505050505050505\n"
     ]
    }
   ],
   "source": [
    "\n",
    "rfc_clf = RandomForestClassifier(max_depth = gs.best_params_['max_depth'], random_state = 42)\n",
    "rfc_clf.fit(train_x_vect, y_train)\n",
    "\n",
    "# F1_score на тестовой выборке\n",
    "y_pred = rfc_clf.predict(vectorizer.transform(X_test))\n",
    "print('f1_score = {}'.format(f1_score(y_test, y_pred, average = 'binary')))"
   ]
  },
  {
   "cell_type": "code",
   "execution_count": 48,
   "id": "e6d366bc",
   "metadata": {},
   "outputs": [
    {
     "data": {
      "text/html": [
       "<div>\n",
       "<style scoped>\n",
       "    .dataframe tbody tr th:only-of-type {\n",
       "        vertical-align: middle;\n",
       "    }\n",
       "\n",
       "    .dataframe tbody tr th {\n",
       "        vertical-align: top;\n",
       "    }\n",
       "\n",
       "    .dataframe thead th {\n",
       "        text-align: right;\n",
       "    }\n",
       "</style>\n",
       "<table border=\"1\" class=\"dataframe\">\n",
       "  <thead>\n",
       "    <tr style=\"text-align: right;\">\n",
       "      <th></th>\n",
       "      <th>title</th>\n",
       "      <th>is_fake</th>\n",
       "    </tr>\n",
       "  </thead>\n",
       "  <tbody>\n",
       "    <tr>\n",
       "      <th>0</th>\n",
       "      <td>Роскомнадзор представил реестр сочетаний цвето...</td>\n",
       "      <td>1</td>\n",
       "    </tr>\n",
       "    <tr>\n",
       "      <th>1</th>\n",
       "      <td>Ночью под Минском на президентской горе Белара...</td>\n",
       "      <td>1</td>\n",
       "    </tr>\n",
       "    <tr>\n",
       "      <th>2</th>\n",
       "      <td>Бывший спичрайтер Юрия Лозы рассказал о трудно...</td>\n",
       "      <td>0</td>\n",
       "    </tr>\n",
       "    <tr>\n",
       "      <th>3</th>\n",
       "      <td>Сельская церковь, собравшая рекордно низкое ко...</td>\n",
       "      <td>0</td>\n",
       "    </tr>\n",
       "    <tr>\n",
       "      <th>4</th>\n",
       "      <td>Акции Google рухнули после объявления о переза...</td>\n",
       "      <td>1</td>\n",
       "    </tr>\n",
       "    <tr>\n",
       "      <th>5</th>\n",
       "      <td>Курс доллара вырос до исторического максимума</td>\n",
       "      <td>0</td>\n",
       "    </tr>\n",
       "    <tr>\n",
       "      <th>6</th>\n",
       "      <td>ОПЕК назвала оптимальный уровень цен на нефть</td>\n",
       "      <td>0</td>\n",
       "    </tr>\n",
       "    <tr>\n",
       "      <th>7</th>\n",
       "      <td>Российская авиакомпания откроет рейсы в Тбилис...</td>\n",
       "      <td>0</td>\n",
       "    </tr>\n",
       "    <tr>\n",
       "      <th>8</th>\n",
       "      <td>Швейцарская горнолыжница расстреляна в доме ро...</td>\n",
       "      <td>1</td>\n",
       "    </tr>\n",
       "    <tr>\n",
       "      <th>9</th>\n",
       "      <td>Учреждена театральная премия имени Гарольда Пи...</td>\n",
       "      <td>0</td>\n",
       "    </tr>\n",
       "  </tbody>\n",
       "</table>\n",
       "</div>"
      ],
      "text/plain": [
       "                                               title  is_fake\n",
       "0  Роскомнадзор представил реестр сочетаний цвето...        1\n",
       "1  Ночью под Минском на президентской горе Белара...        1\n",
       "2  Бывший спичрайтер Юрия Лозы рассказал о трудно...        0\n",
       "3  Сельская церковь, собравшая рекордно низкое ко...        0\n",
       "4  Акции Google рухнули после объявления о переза...        1\n",
       "5      Курс доллара вырос до исторического максимума        0\n",
       "6      ОПЕК назвала оптимальный уровень цен на нефть        0\n",
       "7  Российская авиакомпания откроет рейсы в Тбилис...        0\n",
       "8  Швейцарская горнолыжница расстреляна в доме ро...        1\n",
       "9  Учреждена театральная премия имени Гарольда Пи...        0"
      ]
     },
     "execution_count": 48,
     "metadata": {},
     "output_type": "execute_result"
    }
   ],
   "source": [
    "# Ответ на тестовых данных:\n",
    "\n",
    "test_data = pd.read_csv('dataset/test.tsv', sep = '\\t')\n",
    "test_data['is_fake'] = rfc_clf.predict(vectorizer.transform(test_data['title']))\n",
    "#test_data.style.hide_index()\n",
    "test_data.head(10)"
   ]
  },
  {
   "cell_type": "markdown",
   "id": "f18f2062",
   "metadata": {},
   "source": [
    "# 2. другие подходы (?):"
   ]
  },
  {
   "cell_type": "code",
   "execution_count": null,
   "id": "dcd54725",
   "metadata": {},
   "outputs": [],
   "source": []
  },
  {
   "cell_type": "markdown",
   "id": "990c3efa",
   "metadata": {},
   "source": [
    "# 3.Вывод:\n",
    "\n",
    "Наилучшую точность по метрике F1 показал подход TF_IDF  в сочетании с SVC"
   ]
  },
  {
   "cell_type": "code",
   "execution_count": 62,
   "id": "955f0ff7",
   "metadata": {},
   "outputs": [],
   "source": [
    "test_data = pd.read_csv('dataset/test.tsv', sep = '\\t')\n",
    "test_data['is_fake'] = svc_clf.predict(vectorizer.transform(test_data['title']))\n",
    "test_data.to_csv('predictions.tsv', index = False, sep = '\\t')"
   ]
  },
  {
   "cell_type": "code",
   "execution_count": null,
   "id": "6b08c1fc",
   "metadata": {},
   "outputs": [],
   "source": []
  }
 ],
 "metadata": {
  "kernelspec": {
   "display_name": "Python 3",
   "language": "python",
   "name": "python3"
  },
  "language_info": {
   "codemirror_mode": {
    "name": "ipython",
    "version": 3
   },
   "file_extension": ".py",
   "mimetype": "text/x-python",
   "name": "python",
   "nbconvert_exporter": "python",
   "pygments_lexer": "ipython3",
   "version": "3.8.8"
  }
 },
 "nbformat": 4,
 "nbformat_minor": 5
}
