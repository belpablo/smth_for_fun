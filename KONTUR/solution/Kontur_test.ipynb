{
 "cells": [
  {
   "cell_type": "markdown",
   "id": "8b2584e4",
   "metadata": {},
   "source": [
    "# Тестовое задание:\n",
    "\n",
    "требуется разработать модель, которая будет способна различать заголовки реальных и выдуманных новостей.\n",
    "\n",
    "Для обучения модели используйте данные из файла `train.tsv`. В файле находится таблица, состоящая из двух колонок. \n",
    "В колонке title записан заголовок новости. В колонке is_fake содержатся метки: 0 – новость реальная; 1 – новость выдуманная.\n",
    "Для демонстрации работы модели используйте данные тестового набора из файла `test.tsv`. В нем также есть колонка title, данные которой являются входными для вашей модели.\n",
    "\n",
    "Вам нужно скопировать файл `test.tsv`, переименовать его в `predictions.tsv` и заполнить колонку is_fake значениями предсказаний вашей модели, аналогично `train.tsv`. \n",
    "Изначально колонка заполнена значением 0.\n",
    "\n",
    "---"
   ]
  },
  {
   "cell_type": "code",
   "execution_count": 15,
   "id": "fb1be111",
   "metadata": {},
   "outputs": [
    {
     "data": {
      "text/html": [
       "<div>\n",
       "<style scoped>\n",
       "    .dataframe tbody tr th:only-of-type {\n",
       "        vertical-align: middle;\n",
       "    }\n",
       "\n",
       "    .dataframe tbody tr th {\n",
       "        vertical-align: top;\n",
       "    }\n",
       "\n",
       "    .dataframe thead th {\n",
       "        text-align: right;\n",
       "    }\n",
       "</style>\n",
       "<table border=\"1\" class=\"dataframe\">\n",
       "  <thead>\n",
       "    <tr style=\"text-align: right;\">\n",
       "      <th></th>\n",
       "      <th>title</th>\n",
       "      <th>is_fake</th>\n",
       "    </tr>\n",
       "  </thead>\n",
       "  <tbody>\n",
       "    <tr>\n",
       "      <th>0</th>\n",
       "      <td>Москвичу Владимиру Клутину пришёл счёт за вмеш...</td>\n",
       "      <td>1</td>\n",
       "    </tr>\n",
       "    <tr>\n",
       "      <th>1</th>\n",
       "      <td>Агент Кокорина назвал езду по встречке житейск...</td>\n",
       "      <td>0</td>\n",
       "    </tr>\n",
       "    <tr>\n",
       "      <th>2</th>\n",
       "      <td>Госдума рассмотрит возможность введения секрет...</td>\n",
       "      <td>1</td>\n",
       "    </tr>\n",
       "    <tr>\n",
       "      <th>3</th>\n",
       "      <td>ФАС заблокировала поставку скоростных трамваев...</td>\n",
       "      <td>0</td>\n",
       "    </tr>\n",
       "    <tr>\n",
       "      <th>4</th>\n",
       "      <td>Против Навального завели дело о недоносительст...</td>\n",
       "      <td>1</td>\n",
       "    </tr>\n",
       "    <tr>\n",
       "      <th>5</th>\n",
       "      <td>Российским студентам запретят учиться за рубежом</td>\n",
       "      <td>1</td>\n",
       "    </tr>\n",
       "    <tr>\n",
       "      <th>6</th>\n",
       "      <td>Путин пишет книгу об истории Украины</td>\n",
       "      <td>1</td>\n",
       "    </tr>\n",
       "    <tr>\n",
       "      <th>7</th>\n",
       "      <td>Россияне обхитрили рост цен</td>\n",
       "      <td>0</td>\n",
       "    </tr>\n",
       "    <tr>\n",
       "      <th>8</th>\n",
       "      <td>Звезда «Ворониных» раскрыл подробности о своем...</td>\n",
       "      <td>0</td>\n",
       "    </tr>\n",
       "    <tr>\n",
       "      <th>9</th>\n",
       "      <td>Microsoft объявила дату выхода очков дополненн...</td>\n",
       "      <td>0</td>\n",
       "    </tr>\n",
       "  </tbody>\n",
       "</table>\n",
       "</div>"
      ],
      "text/plain": [
       "                                               title  is_fake\n",
       "0  Москвичу Владимиру Клутину пришёл счёт за вмеш...        1\n",
       "1  Агент Кокорина назвал езду по встречке житейск...        0\n",
       "2  Госдума рассмотрит возможность введения секрет...        1\n",
       "3  ФАС заблокировала поставку скоростных трамваев...        0\n",
       "4  Против Навального завели дело о недоносительст...        1\n",
       "5   Российским студентам запретят учиться за рубежом        1\n",
       "6               Путин пишет книгу об истории Украины        1\n",
       "7                        Россияне обхитрили рост цен        0\n",
       "8  Звезда «Ворониных» раскрыл подробности о своем...        0\n",
       "9  Microsoft объявила дату выхода очков дополненн...        0"
      ]
     },
     "execution_count": 15,
     "metadata": {},
     "output_type": "execute_result"
    }
   ],
   "source": [
    "import numpy as np\n",
    "import pandas as pd\n",
    "import matplotlib.pyplot as plt\n",
    "\n",
    "train_data = pd.read_csv('dataset/train.tsv', sep = '\\t')\n",
    "train_data.head(10)"
   ]
  },
  {
   "cell_type": "code",
   "execution_count": 16,
   "id": "4508b9e5",
   "metadata": {
    "scrolled": true
   },
   "outputs": [
    {
     "data": {
      "text/plain": [
       "2788          Роскосмос опроверг отказ от полетов на Луну\n",
       "5480    Ученые считают найденную на руинах Вавилона та...\n",
       "4210      Чистая прибыль АСВ перекрыла убытки за 2008 год\n",
       "2399          Samsung показал шлем виртуальной реальности\n",
       "5625    Для спасения от малярии медики посоветовали сп...\n",
       "650     Несовершеннолетним запретят пользоваться интер...\n",
       "4602           Звезду «Такси» Сами Насери избили в Москве\n",
       "708     Строительная компания Strabag отложила IPO на ...\n",
       "3483    Французские рабочие вновь захватили в заложник...\n",
       "5306    Физики анонсировали создание «микроба Шредингера»\n",
       "Name: title, dtype: object"
      ]
     },
     "execution_count": 16,
     "metadata": {},
     "output_type": "execute_result"
    }
   ],
   "source": [
    "# разделим тренировочный датасет на train/test - нам же нужно будет как-то оценить работоспособность модели\n",
    "\n",
    "from sklearn.model_selection import train_test_split\n",
    "X_train, X_test, y_train, y_test = train_test_split(train_data['title'], train_data['is_fake'], \n",
    "                                                    test_size = 0.33, random_state = 42)\n",
    "X_train[:10]"
   ]
  },
  {
   "cell_type": "markdown",
   "id": "7cb2c5d7",
   "metadata": {},
   "source": [
    "# 1. попробуем подход: TF-IDF:"
   ]
  },
  {
   "cell_type": "code",
   "execution_count": 17,
   "id": "5dd62379",
   "metadata": {},
   "outputs": [],
   "source": [
    "# Токенизируем входные данные и строим словарь всех известных слов\n",
    "\n",
    "from sklearn.svm import SVC \n",
    "from sklearn.feature_extraction.text import TfidfVectorizer\n",
    "from sklearn.model_selection import GridSearchCV\n",
    "from sklearn.model_selection import KFold\n",
    "\n",
    "vectorizer = TfidfVectorizer()\n",
    "train_x_vect = vectorizer.fit_transform(X_train)\n",
    "#print(train_x_vect)"
   ]
  },
  {
   "cell_type": "code",
   "execution_count": 18,
   "id": "6d4d6e67",
   "metadata": {},
   "outputs": [
    {
     "data": {
      "text/plain": [
       "(3857, 14318)"
      ]
     },
     "execution_count": 18,
     "metadata": {},
     "output_type": "execute_result"
    }
   ],
   "source": [
    "train_x_vect.toarray().shape\n",
    "\n",
    "#по всем 3857 сообщениям набралось 14318 уникальных слов"
   ]
  },
  {
   "cell_type": "code",
   "execution_count": 19,
   "id": "d1351291",
   "metadata": {},
   "outputs": [
    {
     "name": "stdout",
     "output_type": "stream",
     "text": [
      "0.818251984166986\n",
      "{'C': 1.0}\n"
     ]
    }
   ],
   "source": [
    "#попробуем метод опорных векоторов с линейным ядром - выберем наиболее оптимальный параметр перебором\n",
    "\n",
    "grid = {'C': np.power(10.0, np.arange(-5, 6))}\n",
    "\n",
    "cv = KFold(n_splits = 5, shuffle = True, random_state = 42)\n",
    "clf = SVC(kernel = 'linear', random_state = 42)\n",
    "\n",
    "gs = GridSearchCV(clf, grid, scoring = 'accuracy', cv = cv)\n",
    "gs.fit(train_x_vect, y_train)\n",
    "\n",
    "print(gs.best_score_)\n",
    "print(gs.best_params_)"
   ]
  },
  {
   "cell_type": "code",
   "execution_count": 20,
   "id": "030258d9",
   "metadata": {},
   "outputs": [
    {
     "data": {
      "text/plain": [
       "SVC(kernel='linear', random_state=42)"
      ]
     },
     "execution_count": 20,
     "metadata": {},
     "output_type": "execute_result"
    }
   ],
   "source": [
    "clf = SVC(kernel = 'linear', random_state = 42, C = gs.best_params_['C'])\n",
    "clf.fit(train_x_vect, y_train)\n",
    "#clf.coef_.toarray()"
   ]
  },
  {
   "cell_type": "code",
   "execution_count": 21,
   "id": "f2044fe2",
   "metadata": {},
   "outputs": [
    {
     "name": "stdout",
     "output_type": "stream",
     "text": [
      "запретят\n",
      "навального\n",
      "что\n",
      "рпц\n",
      "лукашенко\n",
      "суд\n",
      "нефти\n",
      "при\n",
      "сколково\n",
      "госдуме\n",
      "коронавируса\n",
      "гибдд\n",
      "для\n",
      "кпрф\n",
      "дмитрий\n",
      "нефть\n",
      "честь\n",
      "процентов\n",
      "чтобы\n",
      "нато\n"
     ]
    }
   ],
   "source": [
    "#последние 20 самых важных для моедли слов - можно также поработать над удалением стоп слов.\n",
    "\n",
    "A = clf.coef_.indices\n",
    "B = np.abs(clf.coef_.data)\n",
    "\n",
    "Words = A[B.argsort()[-20:][::-1]]\n",
    "for i in Words:\n",
    "    print(vectorizer.get_feature_names()[i])"
   ]
  },
  {
   "cell_type": "code",
   "execution_count": 26,
   "id": "4a192ccb",
   "metadata": {},
   "outputs": [
    {
     "data": {
      "text/plain": [
       "0.8235887096774194"
      ]
     },
     "execution_count": 26,
     "metadata": {},
     "output_type": "execute_result"
    }
   ],
   "source": [
    "#проверяем на тестовых данных\n",
    "\n",
    "from sklearn.metrics import f1_score\n",
    "\n",
    "y_pred = clf.predict(vectorizer.transform(X_test))\n",
    "f1_score(y_test, y_pred, average = 'binary')"
   ]
  },
  {
   "cell_type": "code",
   "execution_count": null,
   "id": "02135e40",
   "metadata": {},
   "outputs": [],
   "source": []
  }
 ],
 "metadata": {
  "kernelspec": {
   "display_name": "Python 3",
   "language": "python",
   "name": "python3"
  },
  "language_info": {
   "codemirror_mode": {
    "name": "ipython",
    "version": 3
   },
   "file_extension": ".py",
   "mimetype": "text/x-python",
   "name": "python",
   "nbconvert_exporter": "python",
   "pygments_lexer": "ipython3",
   "version": "3.8.8"
  }
 },
 "nbformat": 4,
 "nbformat_minor": 5
}
