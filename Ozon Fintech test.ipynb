{
 "cells": [
  {
   "cell_type": "code",
   "execution_count": 53,
   "id": "1ab95fae",
   "metadata": {},
   "outputs": [],
   "source": [
    "import numpy as np\n",
    "\n",
    "\n",
    "def sorted_sqr_arr(arr):\n",
    "    \n",
    "    \"\"\" input: an array sorted in non-decreasing order.\n",
    "        output: array of squares of array from input sorted in non-decreasing order\n",
    "    \"\"\"\n",
    "    \n",
    "    i, j = 0, len(arr) - 1\n",
    "    res = []\n",
    "    \n",
    "    while i != j:\n",
    "        \n",
    "        sqr_arr_i = arr[i] ** 2\n",
    "        sqr_arr_j = arr[j] ** 2\n",
    "        \n",
    "        if sqr_arr_i >= sqr_arr_j:\n",
    "            res.append(sqr_arr_i)\n",
    "            i += 1\n",
    "        else:\n",
    "            res.append(sqr_arr_j)\n",
    "            j -= 1\n",
    "    \n",
    "    res.append(arr[i] ** 2)\n",
    "    \n",
    "    return np.flip(res)"
   ]
  },
  {
   "cell_type": "code",
   "execution_count": 56,
   "id": "0124ebf6",
   "metadata": {},
   "outputs": [
    {
     "name": "stdout",
     "output_type": "stream",
     "text": [
      "input: [-10 -10  -9  -7  -4  -2  -2   1   3   3]\n",
      "output: [  1   4   4   9   9  16  49  81 100 100]\n"
     ]
    }
   ],
   "source": [
    "num = 10\n",
    "test_arr = np.sort([np.random.randint(-10, 10) for i in range(num)])\n",
    "\n",
    "print(\"input: {}\\noutput: {}\".format(test_arr, sorted_sqr_arr(test_arr)))"
   ]
  },
  {
   "cell_type": "code",
   "execution_count": null,
   "id": "06c61897",
   "metadata": {},
   "outputs": [],
   "source": []
  }
 ],
 "metadata": {
  "kernelspec": {
   "display_name": "Python 3",
   "language": "python",
   "name": "python3"
  },
  "language_info": {
   "codemirror_mode": {
    "name": "ipython",
    "version": 3
   },
   "file_extension": ".py",
   "mimetype": "text/x-python",
   "name": "python",
   "nbconvert_exporter": "python",
   "pygments_lexer": "ipython3",
   "version": "3.8.8"
  }
 },
 "nbformat": 4,
 "nbformat_minor": 5
}
